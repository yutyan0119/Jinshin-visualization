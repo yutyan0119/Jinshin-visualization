{
 "cells": [
  {
   "cell_type": "code",
   "execution_count": 11,
   "metadata": {},
   "outputs": [],
   "source": [
    "import csv\n",
    "from datetime import datetime"
   ]
  },
  {
   "cell_type": "code",
   "execution_count": 48,
   "metadata": {},
   "outputs": [],
   "source": [
    "l = []\n",
    "\n",
    "with open(\"doorR2.csv\") as f:\n",
    "  reader = csv.reader(f)\n",
    "  for row in reader:\n",
    "    l.append(row)"
   ]
  },
  {
   "cell_type": "code",
   "execution_count": 49,
   "metadata": {},
   "outputs": [],
   "source": [
    "for station in l:\n",
    "  if(station[8][0] == \"H\"):\n",
    "    cur = 1\n",
    "    tmp = \"\"\n",
    "    while(station[8][cur] != \".\"):\n",
    "      tmp += station[8][cur]\n",
    "      cur += 1\n",
    "    year = int(tmp) + 1988\n",
    "    cur += 1\n",
    "    tmp = \"\"\n",
    "    while(cur < len(station[8])):\n",
    "      tmp += station[8][cur]\n",
    "      cur += 1\n",
    "    month = int(tmp)\n",
    "    if (month < 10):\n",
    "      month = \"0\" + str(month)\n",
    "    station[8] = str(year) + \"/\" + str(month) + \"/01 00:00\"\n",
    "    #print(station[8])\n",
    "\n",
    "  elif(station[8][0] == \"S\"):\n",
    "    cur = 1\n",
    "    tmp = \"\"\n",
    "    while(station[8][cur] != \".\"):\n",
    "      tmp += station[8][cur]\n",
    "      cur += 1\n",
    "    year = int(tmp) + 1925\n",
    "    cur += 1\n",
    "    tmp = \"\"\n",
    "    while(cur < len(station[8])):\n",
    "      tmp += station[8][cur]\n",
    "      cur += 1\n",
    "    month = int(tmp)\n",
    "    if (month < 10):\n",
    "      month = \"0\" + str(month)\n",
    "    station[8] = str(year) + \"/\" + str(month) + \"/01 00:00\"\n",
    "    #print(station[8])\n",
    "\n",
    "  elif(station[8][0] == \"R\"):\n",
    "    cur = 1\n",
    "    tmp = \"\"\n",
    "    while(station[8][cur] != \".\"):\n",
    "      tmp += station[8][cur]\n",
    "      cur += 1\n",
    "    year = int(tmp) + 2018\n",
    "    cur += 1\n",
    "    tmp = \"\"\n",
    "    while(cur < len(station[8])):\n",
    "      tmp += station[8][cur]\n",
    "      cur += 1\n",
    "    month = int(tmp)\n",
    "    if (month < 10):\n",
    "      month = \"0\" + str(month)\n",
    "    station[8] = str(year) + \"/\" + str(month) + \"/01 00:00\"\n",
    "    #print(station[8])\n"
   ]
  },
  {
   "cell_type": "code",
   "execution_count": 50,
   "metadata": {},
   "outputs": [],
   "source": [
    "with open(\"doorR2_converted.csv\", \"w\") as f:\n",
    "  writer = csv.writer(f)\n",
    "  writer.writerows(l)"
   ]
  },
  {
   "cell_type": "code",
   "execution_count": null,
   "metadata": {},
   "outputs": [],
   "source": []
  }
 ],
 "metadata": {
  "kernelspec": {
   "display_name": "Python 3.10.7 64-bit",
   "language": "python",
   "name": "python3"
  },
  "language_info": {
   "codemirror_mode": {
    "name": "ipython",
    "version": 3
   },
   "file_extension": ".py",
   "mimetype": "text/x-python",
   "name": "python",
   "nbconvert_exporter": "python",
   "pygments_lexer": "ipython3",
   "version": "3.10.7"
  },
  "orig_nbformat": 4,
  "vscode": {
   "interpreter": {
    "hash": "aee8b7b246df8f9039afb4144a1f6fd8d2ca17a180786b69acc140d282b71a49"
   }
  }
 },
 "nbformat": 4,
 "nbformat_minor": 2
}
