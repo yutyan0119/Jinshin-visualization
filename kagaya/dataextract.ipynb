{
 "cells": [
  {
   "cell_type": "code",
   "execution_count": 2,
   "metadata": {},
   "outputs": [],
   "source": [
    "#from bs4 import BeautifulSoup\n",
    "import csv\n",
    "import numpy as np\n",
    "import pandas as pd\n",
    "#import re\n",
    "import time\n",
    "from tqdm import tqdm\n",
    "import json\n",
    "from datetime import datetime, timedelta, timezone"
   ]
  },
  {
   "cell_type": "code",
   "execution_count": 37,
   "metadata": {},
   "outputs": [],
   "source": [
    "df = pd.read_csv(\"../data/jinshin_archive_sentence.csv\",index_col=0)\n",
    "df[\"day\"] = df.date.apply(lambda x: datetime.strptime(x, '%Y/%m/%d %H:%M').strftime(\"%A\"))\n",
    "df.date = df.date.apply(lambda x: datetime.strptime(x, '%Y/%m/%d %H:%M'))\n",
    "df.date = df.date.apply(lambda x: x.strftime(\"%H:%M\"))\n",
    "df.sort_values(\"date\", ascending=True, inplace=True)\n",
    "\n",
    "a = df.to_numpy()\n",
    "mon = {}\n",
    "tue = {}\n",
    "wed = {}\n",
    "thu = {}\n",
    "fri = {}\n",
    "sat = {}\n",
    "sun = {}\n",
    "\n",
    "for i in a:\n",
    "    if i[7] == \"Monday\":\n",
    "        if i[0] in mon:\n",
    "            mon[i[0]] += 1\n",
    "        else:\n",
    "            mon[i[0]] = 1\n",
    "    elif i[7] == \"Tuesday\":\n",
    "        if i[0] in tue:\n",
    "            tue[i[0]] += 1\n",
    "        else:\n",
    "            tue[i[0]] = 1\n",
    "    elif i[7] == \"Wednesday\":\n",
    "        if i[0] in wed:\n",
    "            wed[i[0]] += 1\n",
    "        else:\n",
    "            wed[i[0]] = 1\n",
    "    elif i[7] == \"Thursday\":\n",
    "        if i[0] in thu:\n",
    "            thu[i[0]] += 1\n",
    "        else:\n",
    "            thu[i[0]] = 1\n",
    "    elif i[7] == \"Friday\":\n",
    "        if i[0] in fri:\n",
    "            fri[i[0]] += 1\n",
    "        else:\n",
    "            fri[i[0]] = 1\n",
    "    elif i[7] == \"Saturday\":\n",
    "        if i[0] in sat:\n",
    "            sat[i[0]] += 1\n",
    "        else:\n",
    "            sat[i[0]] = 1\n",
    "    else:\n",
    "        if i[0] in sun:\n",
    "            sun[i[0]] += 1\n",
    "        else:\n",
    "            sun[i[0]] = 1\n",
    "\n",
    "with open(\"timeonly_mon.json\", \"w\") as f:\n",
    "    jsonhoge = json.dump(mon, f, indent=2)\n",
    "with open(\"timeonly_tue.json\", \"w\") as f:\n",
    "    jsonhoge = json.dump(tue, f, indent=2)\n",
    "with open(\"timeonly_wed.json\", \"w\") as f:\n",
    "    jsonhoge = json.dump(wed, f, indent=2)\n",
    "with open(\"timeonly_thu.json\", \"w\") as f:\n",
    "    jsonhoge = json.dump(thu, f, indent=2)\n",
    "with open(\"timeonly_fri.json\", \"w\") as f:\n",
    "    jsonhoge = json.dump(fri, f, indent=2)\n",
    "with open(\"timeonly_sat.json\", \"w\") as f:\n",
    "    jsonhoge = json.dump(sat, f, indent=2)\n",
    "with open(\"timeonly_sun.json\", \"w\") as f:\n",
    "    jsonhoge = json.dump(sun, f, indent=2)\n"
   ]
  },
  {
   "cell_type": "code",
   "execution_count": 44,
   "metadata": {},
   "outputs": [],
   "source": [
    "def inputation(filename):\n",
    "    with open(filename,\"r\") as f:\n",
    "        a = json.load(f)\n",
    "        for hour in range(24):\n",
    "            for minute in range(60):\n",
    "                key = str(hour).zfill(2) + \":\" + str(minute).zfill(2)\n",
    "                if  not key in a:\n",
    "                    a[key] = 0\n",
    "    with open(filename,\"w\") as f:\n",
    "        json.dump(a,f, indent=2)"
   ]
  },
  {
   "cell_type": "code",
   "execution_count": 45,
   "metadata": {},
   "outputs": [],
   "source": [
    "inputation(\"timeonly_mon.json\")\n",
    "inputation(\"timeonly_tue.json\")\n",
    "inputation(\"timeonly_wed.json\")\n",
    "inputation(\"timeonly_thu.json\")\n",
    "inputation(\"timeonly_fri.json\")\n",
    "inputation(\"timeonly_sat.json\")\n",
    "inputation(\"timeonly_sun.json\")"
   ]
  },
  {
   "cell_type": "code",
   "execution_count": 47,
   "metadata": {},
   "outputs": [],
   "source": [
    "def clockdata(filename1, filename2):\n",
    "    section = [0, 10, 20, 30, 40, 50, 60]\n",
    "    res = []\n",
    "    with open(filename1, \"r\") as f:\n",
    "        d = json.load(f)\n",
    "        for hour in range(24):\n",
    "            for i in range(len(section)-1):\n",
    "                start = section[i]\n",
    "                end = section[i+1]\n",
    "                dataarray = []\n",
    "                for minute in range(start, end):\n",
    "                    key = str(hour).zfill(2) + \":\" + str(minute).zfill(2)\n",
    "                    dataarray.append(d[key])\n",
    "                tmp = np.array(dataarray)\n",
    "                c_array = np.percentile(tmp,[0,25,50,75,100])\n",
    "                res.append({\"hour\": hour, \"minute\": section[i], \"min\": c_array[0], \"quarter\":c_array[1], \"median\": c_array[2], \"quarter3\": c_array[3], \"max\": c_array[4]})\n",
    "    with open(filename2,\"w\") as f:\n",
    "        json.dump(res,f,indent=2)"
   ]
  },
  {
   "cell_type": "code",
   "execution_count": 49,
   "metadata": {},
   "outputs": [],
   "source": [
    "clockdata(\"timeonly_mon.json\", \"clockdata_mon.json\")\n",
    "clockdata(\"timeonly_tue.json\", \"clockdata_tue.json\")\n",
    "clockdata(\"timeonly_wed.json\", \"clockdata_wed.json\")\n",
    "clockdata(\"timeonly_thu.json\", \"clockdata_thu.json\")\n",
    "clockdata(\"timeonly_fri.json\", \"clockdata_fri.json\")\n",
    "clockdata(\"timeonly_sat.json\", \"clockdata_sat.json\")\n",
    "clockdata(\"timeonly_sun.json\", \"clockdata_sun.json\")"
   ]
  },
  {
   "cell_type": "code",
   "execution_count": 41,
   "metadata": {},
   "outputs": [
    {
     "name": "stdout",
     "output_type": "stream",
     "text": [
      "[['1974/01/01', 1], ['1977/12/01', 2], ['1981/02/01', 11], ['1981/03/01', 19], ['1985/01/01', 20], ['1985/03/01', 22], ['1989/07/01', 36], ['1990/02/01', 42], ['1990/03/01', 43], ['1991/11/01', 50], ['1994/08/01', 71], ['1995/11/01', 82], ['1996/03/01', 88], ['1997/09/01', 90], ['1997/10/01', 106], ['1997/12/01', 108], ['1998/08/01', 111], ['1998/11/01', 119], ['2000/01/01', 130], ['2000/04/01', 133], ['2000/05/01', 138], ['2000/06/01', 144], ['2000/07/01', 149], ['2000/08/01', 164], ['2000/09/01', 170], ['2001/03/01', 177], ['2001/06/01', 178], ['2001/07/01', 183], ['2002/02/01', 184], ['2002/09/01', 194], ['2002/11/01', 195], ['2002/12/01', 198], ['2003/03/01', 201], ['2003/08/01', 216], ['2003/10/01', 217], ['2004/03/01', 235], ['2004/05/01', 239], ['2004/10/01', 250], ['2004/11/01', 252], ['2004/12/01', 253], ['2005/02/01', 269], ['2005/03/01', 278], ['2005/08/01', 298], ['2006/01/01', 305], ['2006/02/01', 308], ['2006/03/01', 312], ['2006/04/01', 313], ['2006/06/01', 315], ['2006/07/01', 317], ['2006/08/01', 318], ['2006/09/01', 320], ['2006/10/01', 321], ['2006/11/01', 322], ['2006/12/01', 335], ['2007/02/01', 337], ['2007/03/01', 338], ['2007/04/01', 352], ['2007/05/01', 357], ['2007/06/01', 363], ['2007/07/01', 369], ['2007/08/01', 374], ['2007/09/01', 380], ['2008/01/01', 382], ['2008/03/01', 405], ['2008/05/01', 406], ['2008/06/01', 421], ['2008/09/01', 423], ['2008/10/01', 426], ['2008/11/01', 429], ['2008/12/01', 433], ['2009/01/01', 435], ['2009/02/01', 438], ['2009/03/01', 439], ['2009/10/01', 442], ['2009/11/01', 446], ['2009/12/01', 450], ['2010/01/01', 453], ['2010/02/01', 456], ['2010/06/01', 457], ['2010/07/01', 458], ['2010/08/01', 462], ['2010/09/01', 469], ['2010/10/01', 477], ['2010/11/01', 478], ['2010/12/01', 483], ['2011/01/01', 487], ['2011/02/01', 492], ['2011/03/01', 506], ['2011/04/01', 510], ['2011/05/01', 512], ['2011/06/01', 515], ['2011/07/01', 520], ['2011/08/01', 523], ['2011/09/01', 525], ['2011/10/01', 529], ['2011/11/01', 532], ['2011/12/01', 534], ['2012/01/01', 535], ['2012/02/01', 539], ['2012/03/01', 544], ['2012/04/01', 547], ['2012/05/01', 549], ['2012/06/01', 551], ['2012/07/01', 556], ['2012/08/01', 561], ['2012/09/01', 567], ['2012/10/01', 571], ['2012/11/01', 574], ['2012/12/01', 579], ['2013/01/01', 582], ['2013/02/01', 586], ['2013/03/01', 593], ['2013/04/01', 596], ['2013/06/01', 600], ['2013/08/01', 601], ['2013/09/01', 602], ['2013/10/01', 603], ['2013/11/01', 605], ['2013/12/01', 607], ['2014/02/01', 608], ['2014/03/01', 612], ['2014/04/01', 613], ['2014/05/01', 615], ['2014/06/01', 618], ['2014/07/01', 619], ['2014/08/01', 622], ['2014/09/01', 623], ['2014/10/01', 626], ['2014/11/01', 628], ['2014/12/01', 632], ['2015/01/01', 633], ['2015/02/01', 637], ['2015/03/01', 651], ['2015/04/01', 652], ['2015/06/01', 653], ['2015/09/01', 657], ['2015/10/01', 663], ['2015/11/01', 668], ['2015/12/01', 689], ['2016/01/01', 691], ['2016/02/01', 697], ['2016/03/01', 707], ['2016/04/01', 708], ['2016/05/01', 709], ['2016/06/01', 710], ['2016/08/01', 712], ['2016/09/01', 714], ['2016/10/01', 716], ['2016/11/01', 720], ['2016/12/01', 724], ['2017/01/01', 725], ['2017/02/01', 728], ['2017/03/01', 732], ['2017/04/01', 734], ['2017/05/01', 735], ['2017/06/01', 737], ['2017/07/01', 740], ['2017/09/01', 743], ['2017/10/01', 746], ['2017/11/01', 748], ['2017/12/01', 754], ['2018/02/01', 760], ['2018/03/01', 775], ['2018/04/01', 779], ['2018/05/01', 781], ['2018/06/01', 785], ['2018/07/01', 789], ['2018/08/01', 793], ['2018/09/01', 802], ['2018/10/01', 806], ['2018/11/01', 811], ['2018/12/01', 822], ['2019/01/01', 824], ['2019/02/01', 831], ['2019/03/01', 851], ['2019/04/01', 859], ['2019/05/01', 861], ['2019/06/01', 868], ['2019/07/01', 871], ['2019/08/01', 874], ['2019/09/01', 884], ['2019/10/01', 894], ['2019/11', 895], ['2019/11/01', 902], ['2019/12/01', 911], ['2020/01/01', 912], ['2020/02/01', 922], ['2020/03/01', 940]]\n"
     ]
    }
   ],
   "source": [
    "door = []\n",
    "with open(\"doorR2_converted.csv\") as f:\n",
    "  reader = csv.reader(f)\n",
    "  for row in reader:\n",
    "    door.append(row)\n",
    "del door[0]\n",
    "\n",
    "doorday = {}\n",
    "for i in door:\n",
    "  i[8] = i[8][:10]\n",
    "  if i[8] in doorday:\n",
    "    doorday[i[8]] += 1\n",
    "  else:\n",
    "    doorday[i[8]] = 1\n",
    "doorday = sorted(doorday.items())\n",
    "del doorday[-1]\n",
    "\n",
    "for i in range(len(doorday)):\n",
    "  doorday[i] = list(doorday[i])\n",
    "  if i > 0:\n",
    "    doorday[i][1] = doorday[i-1][1] + doorday[i][1]\n",
    "\n",
    "#print(doorday)\n",
    "\n",
    "with open(\"doordate.csv\", \"w\") as f:\n",
    "  writer = csv.writer(f)\n",
    "  writer.writerow([\"date\", \"value\"])\n",
    "  for k, v in doorday:\n",
    "    writer.writerow([k, v])"
   ]
  },
  {
   "cell_type": "code",
   "execution_count": null,
   "metadata": {},
   "outputs": [],
   "source": []
  }
 ],
 "metadata": {
  "kernelspec": {
   "display_name": "Python 3.10.7 64-bit",
   "language": "python",
   "name": "python3"
  },
  "language_info": {
   "codemirror_mode": {
    "name": "ipython",
    "version": 3
   },
   "file_extension": ".py",
   "mimetype": "text/x-python",
   "name": "python",
   "nbconvert_exporter": "python",
   "pygments_lexer": "ipython3",
   "version": "3.10.7"
  },
  "orig_nbformat": 4,
  "vscode": {
   "interpreter": {
    "hash": "aee8b7b246df8f9039afb4144a1f6fd8d2ca17a180786b69acc140d282b71a49"
   }
  }
 },
 "nbformat": 4,
 "nbformat_minor": 2
}
