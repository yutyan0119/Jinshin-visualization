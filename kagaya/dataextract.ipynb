{
 "cells": [
  {
   "cell_type": "code",
   "execution_count": 22,
   "metadata": {},
   "outputs": [],
   "source": [
    "#from bs4 import BeautifulSoup\n",
    "import csv\n",
    "import numpy as np\n",
    "import pandas as pd\n",
    "#import re\n",
    "import time\n",
    "from tqdm import tqdm\n",
    "import json\n",
    "from datetime import datetime, timedelta, timezone"
   ]
  },
  {
   "cell_type": "code",
   "execution_count": 37,
   "metadata": {},
   "outputs": [],
   "source": [
    "df = pd.read_csv(\"../data/jinshin_archive_sentence.csv\",index_col=0)\n",
    "df[\"day\"] = df.date.apply(lambda x: datetime.strptime(x, '%Y/%m/%d %H:%M').strftime(\"%A\"))\n",
    "df.date = df.date.apply(lambda x: datetime.strptime(x, '%Y/%m/%d %H:%M'))\n",
    "df.date = df.date.apply(lambda x: x.strftime(\"%H:%M\"))\n",
    "df.sort_values(\"date\", ascending=True, inplace=True)\n",
    "\n",
    "a = df.to_numpy()\n",
    "mon = {}\n",
    "tue = {}\n",
    "wed = {}\n",
    "thu = {}\n",
    "fri = {}\n",
    "sat = {}\n",
    "sun = {}\n",
    "\n",
    "for i in a:\n",
    "    if i[7] == \"Monday\":\n",
    "        if i[0] in mon:\n",
    "            mon[i[0]] += 1\n",
    "        else:\n",
    "            mon[i[0]] = 1\n",
    "    elif i[7] == \"Tuesday\":\n",
    "        if i[0] in tue:\n",
    "            tue[i[0]] += 1\n",
    "        else:\n",
    "            tue[i[0]] = 1\n",
    "    elif i[7] == \"Wednesday\":\n",
    "        if i[0] in wed:\n",
    "            wed[i[0]] += 1\n",
    "        else:\n",
    "            wed[i[0]] = 1\n",
    "    elif i[7] == \"Thursday\":\n",
    "        if i[0] in thu:\n",
    "            thu[i[0]] += 1\n",
    "        else:\n",
    "            thu[i[0]] = 1\n",
    "    elif i[7] == \"Friday\":\n",
    "        if i[0] in fri:\n",
    "            fri[i[0]] += 1\n",
    "        else:\n",
    "            fri[i[0]] = 1\n",
    "    elif i[7] == \"Saturday\":\n",
    "        if i[0] in sat:\n",
    "            sat[i[0]] += 1\n",
    "        else:\n",
    "            sat[i[0]] = 1\n",
    "    else:\n",
    "        if i[0] in sun:\n",
    "            sun[i[0]] += 1\n",
    "        else:\n",
    "            sun[i[0]] = 1\n",
    "\n",
    "with open(\"timeonly_mon.json\", \"w\") as f:\n",
    "    jsonhoge = json.dump(mon, f, indent=2)\n",
    "with open(\"timeonly_tue.json\", \"w\") as f:\n",
    "    jsonhoge = json.dump(tue, f, indent=2)\n",
    "with open(\"timeonly_wed.json\", \"w\") as f:\n",
    "    jsonhoge = json.dump(wed, f, indent=2)\n",
    "with open(\"timeonly_thu.json\", \"w\") as f:\n",
    "    jsonhoge = json.dump(thu, f, indent=2)\n",
    "with open(\"timeonly_fri.json\", \"w\") as f:\n",
    "    jsonhoge = json.dump(fri, f, indent=2)\n",
    "with open(\"timeonly_sat.json\", \"w\") as f:\n",
    "    jsonhoge = json.dump(sat, f, indent=2)\n",
    "with open(\"timeonly_sun.json\", \"w\") as f:\n",
    "    jsonhoge = json.dump(sun, f, indent=2)\n"
   ]
  },
  {
   "cell_type": "code",
   "execution_count": 44,
   "metadata": {},
   "outputs": [],
   "source": [
    "def inputation(filename):\n",
    "    with open(filename,\"r\") as f:\n",
    "        a = json.load(f)\n",
    "        for hour in range(24):\n",
    "            for minute in range(60):\n",
    "                key = str(hour).zfill(2) + \":\" + str(minute).zfill(2)\n",
    "                if  not key in a:\n",
    "                    a[key] = 0\n",
    "    with open(filename,\"w\") as f:\n",
    "        json.dump(a,f, indent=2)"
   ]
  },
  {
   "cell_type": "code",
   "execution_count": 45,
   "metadata": {},
   "outputs": [],
   "source": [
    "inputation(\"timeonly_mon.json\")\n",
    "inputation(\"timeonly_tue.json\")\n",
    "inputation(\"timeonly_wed.json\")\n",
    "inputation(\"timeonly_thu.json\")\n",
    "inputation(\"timeonly_fri.json\")\n",
    "inputation(\"timeonly_sat.json\")\n",
    "inputation(\"timeonly_sun.json\")"
   ]
  },
  {
   "cell_type": "code",
   "execution_count": 47,
   "metadata": {},
   "outputs": [],
   "source": [
    "def clockdata(filename1, filename2):\n",
    "    section = [0, 10, 20, 30, 40, 50, 60]\n",
    "    res = []\n",
    "    with open(filename1, \"r\") as f:\n",
    "        d = json.load(f)\n",
    "        for hour in range(24):\n",
    "            for i in range(len(section)-1):\n",
    "                start = section[i]\n",
    "                end = section[i+1]\n",
    "                dataarray = []\n",
    "                for minute in range(start, end):\n",
    "                    key = str(hour).zfill(2) + \":\" + str(minute).zfill(2)\n",
    "                    dataarray.append(d[key])\n",
    "                tmp = np.array(dataarray)\n",
    "                c_array = np.percentile(tmp,[0,25,50,75,100])\n",
    "                res.append({\"hour\": hour, \"minute\": section[i], \"min\": c_array[0], \"quarter\":c_array[1], \"median\": c_array[2], \"quarter3\": c_array[3], \"max\": c_array[4]})\n",
    "    with open(filename2,\"w\") as f:\n",
    "        json.dump(res,f,indent=2)"
   ]
  },
  {
   "cell_type": "code",
   "execution_count": 49,
   "metadata": {},
   "outputs": [],
   "source": [
    "clockdata(\"timeonly_mon.json\", \"clockdata_mon.json\")\n",
    "clockdata(\"timeonly_tue.json\", \"clockdata_tue.json\")\n",
    "clockdata(\"timeonly_wed.json\", \"clockdata_wed.json\")\n",
    "clockdata(\"timeonly_thu.json\", \"clockdata_thu.json\")\n",
    "clockdata(\"timeonly_fri.json\", \"clockdata_fri.json\")\n",
    "clockdata(\"timeonly_sat.json\", \"clockdata_sat.json\")\n",
    "clockdata(\"timeonly_sun.json\", \"clockdata_sun.json\")"
   ]
  },
  {
   "cell_type": "code",
   "execution_count": null,
   "metadata": {},
   "outputs": [],
   "source": []
  }
 ],
 "metadata": {
  "kernelspec": {
   "display_name": "Python 3.10.7 64-bit",
   "language": "python",
   "name": "python3"
  },
  "language_info": {
   "codemirror_mode": {
    "name": "ipython",
    "version": 3
   },
   "file_extension": ".py",
   "mimetype": "text/x-python",
   "name": "python",
   "nbconvert_exporter": "python",
   "pygments_lexer": "ipython3",
   "version": "3.10.7"
  },
  "orig_nbformat": 4,
  "vscode": {
   "interpreter": {
    "hash": "aee8b7b246df8f9039afb4144a1f6fd8d2ca17a180786b69acc140d282b71a49"
   }
  }
 },
 "nbformat": 4,
 "nbformat_minor": 2
}
