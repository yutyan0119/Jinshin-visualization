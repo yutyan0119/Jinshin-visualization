{
 "cells": [
  {
   "cell_type": "code",
   "execution_count": 34,
   "metadata": {},
   "outputs": [],
   "source": [
    "from bs4 import BeautifulSoup\n",
    "import csv\n",
    "\n",
    "with open(\"../data/鉄道人身事故データベース.html\", \"r\") as f:\n",
    "    html = f.read()\n",
    "    soup = BeautifulSoup(html, 'html.parser')\n",
    "    a = soup.findAll(\"table\")[0].findAll(\"tr\")\n",
    "    with open(\"../data/jinshin.csv\", \"w\", newline=\"\", encoding=\"utf-8\") as file:\n",
    "        csv_write = csv.writer(file)\n",
    "        for tr in a:\n",
    "            data = []\n",
    "            for cell in tr.findAll([\"td\", \"th\"]):\n",
    "                if (not \"詳細\" in cell.get_text()) and cell.get_text() != \"\":\n",
    "                    data.append(cell.get_text())\n",
    "            if len(data) == 3:\n",
    "                data.append(\"\")\n",
    "            for url in tr.findAll(\"a\"):\n",
    "                data.append(url.get(\"href\"))\n",
    "            csv_write.writerow(data)"
   ]
  }
 ],
 "metadata": {
  "kernelspec": {
   "display_name": "Python 3.8.10 64-bit ('3.8.10')",
   "language": "python",
   "name": "python3"
  },
  "language_info": {
   "codemirror_mode": {
    "name": "ipython",
    "version": 3
   },
   "file_extension": ".py",
   "mimetype": "text/x-python",
   "name": "python",
   "nbconvert_exporter": "python",
   "pygments_lexer": "ipython3",
   "version": "3.8.10"
  },
  "orig_nbformat": 4,
  "vscode": {
   "interpreter": {
    "hash": "1a3477c34db08afe9f47e0f0d996f95fb33b29cd0835c968a43c31a15b10e5bb"
   }
  }
 },
 "nbformat": 4,
 "nbformat_minor": 2
}
