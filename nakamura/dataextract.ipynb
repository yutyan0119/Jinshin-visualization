{
 "cells": [
  {
   "cell_type": "code",
   "execution_count": 2,
   "metadata": {},
   "outputs": [],
   "source": [
    "from bs4 import BeautifulSoup\n",
    "import csv\n",
    "import numpy as np\n",
    "import pandas as pd\n",
    "import requests\n",
    "import re\n",
    "import time\n",
    "from tqdm import tqdm\n",
    "import json\n",
    "from datetime import datetime, timedelta, timezone"
   ]
  },
  {
   "cell_type": "code",
   "execution_count": null,
   "metadata": {},
   "outputs": [],
   "source": [
    "with open(\"../data/鉄道人身事故データベース.html\", \"r\") as f:\n",
    "    html = f.read()\n",
    "    soup = BeautifulSoup(html, 'html.parser')\n",
    "    a = soup.findAll(\"table\")[0].findAll(\"tr\")\n",
    "    with open(\"../data/jinshin.csv\", \"w\", newline=\"\", encoding=\"utf-8\") as file:\n",
    "        csv_write = csv.writer(file)\n",
    "        for tr in a:\n",
    "            data = []\n",
    "            for cell in tr.findAll([\"td\", \"th\"]):\n",
    "                if (not \"詳細\" in cell.get_text()) and cell.get_text() != \"\":\n",
    "                    data.append(cell.get_text())\n",
    "            if len(data) == 3:\n",
    "                data.append(\"\")\n",
    "            for url in tr.findAll(\"a\"):\n",
    "                data.append(url.get(\"href\"))\n",
    "            csv_write.writerow(data)"
   ]
  },
  {
   "cell_type": "code",
   "execution_count": null,
   "metadata": {},
   "outputs": [],
   "source": [
    "df = pd.read_csv(\"../data/jinshin.csv\", header=0, names=[\"date\", \"line\", \"place\", \"injury\", \"url\"])\n",
    "data = []\n",
    "sentences = []\n",
    "for url in tqdm(df[\"url\"]):\n",
    "    d = BeautifulSoup(requests.get(url).text,'html.parser')\n",
    "    a = d.findAll(\"a\",text=re.compile(\"魚拓\"))\n",
    "    if a :\n",
    "        data.append(a[0].get(\"href\"))\n",
    "    else :\n",
    "        data.append(\"\")\n",
    "    sentence = d.findAll(\"p\",class_=\"card-text\")\n",
    "    if sentence:\n",
    "        sentences.append(sentence[0].get_text().replace(\" \",\"\").replace(\"\\n\",\"\").replace(\"　\",\"\"))\n",
    "    else :\n",
    "        sentences.append(\"\")\n",
    "    time.sleep(0.01)\n",
    "# 保存\n",
    "save_data = np.array(data)\n",
    "save_sentences = np.array(sentences)\n",
    "np.save(\"archive_url3\",save_data)\n",
    "np.save(\"news_sentences\", save_sentences)\n",
    "# 付け加えて保存\n",
    "df[\"archive\"] = data\n",
    "df[\"sentence\"] = sentences\n",
    "df.to_csv(\"../data/jinshin_archive.csv\")"
   ]
  },
  {
   "cell_type": "code",
   "execution_count": null,
   "metadata": {},
   "outputs": [],
   "source": [
    "url = df[\"url\"][0]\n",
    "d = BeautifulSoup(requests.get(url).text, 'html.parser')\n",
    "\n",
    "gyotaku = d.findAll(\"a\", text =re.compile(\"魚拓\"))[0].get(\"href\")\n",
    "print(gyotaku)\n",
    "print(d.findAll('p',class_=\"card-text\")[0].get_text())"
   ]
  },
  {
   "cell_type": "code",
   "execution_count": 9,
   "metadata": {},
   "outputs": [
    {
     "name": "stderr",
     "output_type": "stream",
     "text": [
      "100%|██████████| 14897/14897 [1:01:16<00:00,  4.05it/s]\n"
     ]
    }
   ],
   "source": [
    "df = pd.read_csv(\"../data/jinshin_archive.csv\", header=0, names=[\"date\", \"line\", \"place\", \"injury\", \"url\", \"archive\", \"sentence\"])\n",
    "data = []\n",
    "sentences = []\n",
    "for url in tqdm(df[\"url\"]):\n",
    "    d = BeautifulSoup(requests.get(url).text,'html.parser')\n",
    "    sentence = d.findAll(\"p\",class_=\"card-text\")\n",
    "    if sentence:\n",
    "        sentences.append(sentence[0].get_text().replace(\" \",\"\").replace(\"\\n\",\"\").replace(\"　\",\"\"))\n",
    "    else :\n",
    "        sentences.append(\"\")\n",
    "    time.sleep(0.01)\n",
    "# 保存\n",
    "save_sentences = np.array(sentences)\n",
    "np.save(\"news_sentences\", save_sentences)\n",
    "# 付け加えて保存\n",
    "df[\"sentence\"] = sentences\n",
    "df.to_csv(\"../data/jinshin_archive_sentence.csv\")"
   ]
  },
  {
   "cell_type": "code",
   "execution_count": 29,
   "metadata": {},
   "outputs": [
    {
     "name": "stdout",
     "output_type": "stream",
     "text": [
      "東京\n"
     ]
    }
   ],
   "source": [
    "with open(\"../data/JR東/東日本旅客鉄道東海道線.geojson\") as f:\n",
    "    df = json.load(f)\n",
    "print(df[\"features\"][0][\"properties\"][\"name\"])"
   ]
  },
  {
   "cell_type": "code",
   "execution_count": 10,
   "metadata": {},
   "outputs": [],
   "source": [
    "df = pd.read_csv(\"../data/jinshin_archive_sentence.csv\",index_col=0)\n",
    "df.date = df.date.apply(lambda x: datetime.strptime(x, '%Y/%m/%d %H:%M').time())\n",
    "df.sort_values(\"date\", ascending=True, inplace=True)\n",
    "df.date = df.date.apply(lambda x: x.strftime(\"%H:%M\"))\n",
    "a = df[\"date\"].to_numpy()\n",
    "list = {}\n",
    "for i in a:\n",
    "    if i in list:\n",
    "        list[i] += 1\n",
    "    else:\n",
    "        list[i] = 1\n",
    "with open(\"timeonly.json\", \"w\") as f:\n",
    "    jsonhoge = json.dump(list, f, indent=2)\n"
   ]
  },
  {
   "cell_type": "code",
   "execution_count": 3,
   "metadata": {},
   "outputs": [],
   "source": [
    "with open(\"./timeonly.json\",\"r\") as f:\n",
    "    a = json.load(f)\n",
    "    for hour in range(24):\n",
    "        for minute in range(60):\n",
    "            key = str(hour).zfill(2) + \":\" + str(minute).zfill(2)\n",
    "            if  not key in a:\n",
    "                a[key] = 0\n",
    "with open(\"timeonly.json\",\"w\") as f:\n",
    "    json.dump(a,f, indent=2)"
   ]
  },
  {
   "cell_type": "code",
   "execution_count": 14,
   "metadata": {},
   "outputs": [],
   "source": [
    "section = [0, 10, 20, 30, 40, 50, 60]\n",
    "res = []\n",
    "with open(\"./timeonly.json\", \"r\") as f:\n",
    "    d = json.load(f)\n",
    "    for hour in range(24):\n",
    "        for i in range(len(section)-1):\n",
    "            start = section[i]\n",
    "            end = section[i+1]\n",
    "            dataarray = []\n",
    "            for minute in range(start, end):\n",
    "                key = str(hour).zfill(2) + \":\" + str(minute).zfill(2)\n",
    "                dataarray.append(d[key])\n",
    "            tmp = np.array(dataarray)\n",
    "            c_array = np.percentile(tmp,[0,25,50,75,100])\n",
    "            res.append({\"hour\": hour, \"minute\": section[i], \"min\": c_array[0], \"quarter\":c_array[1], \"median\": c_array[2], \"quarter3\": c_array[3], \"max\": c_array[4]})\n",
    "# print(res)\n",
    "with open(\"jinshin4.json\",\"w\") as f:\n",
    "    json.dump(res,f,indent=2)"
   ]
  },
  {
   "cell_type": "code",
   "execution_count": null,
   "metadata": {},
   "outputs": [],
   "source": []
  }
 ],
 "metadata": {
  "kernelspec": {
   "display_name": "Python 3.8.10 64-bit ('3.8.10')",
   "language": "python",
   "name": "python3"
  },
  "language_info": {
   "codemirror_mode": {
    "name": "ipython",
    "version": 3
   },
   "file_extension": ".py",
   "mimetype": "text/x-python",
   "name": "python",
   "nbconvert_exporter": "python",
   "pygments_lexer": "ipython3",
   "version": "3.8.10"
  },
  "orig_nbformat": 4,
  "vscode": {
   "interpreter": {
    "hash": "1a3477c34db08afe9f47e0f0d996f95fb33b29cd0835c968a43c31a15b10e5bb"
   }
  }
 },
 "nbformat": 4,
 "nbformat_minor": 2
}
