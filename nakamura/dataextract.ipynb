{
 "cells": [
  {
   "cell_type": "code",
   "execution_count": 17,
   "metadata": {},
   "outputs": [
    {
     "name": "stdout",
     "output_type": "stream",
     "text": [
      "<tr>\n",
      "<td>2022/11/07 02:55</td>\n",
      "<td>山陽本線_(JR西日本)</td>\n",
      "<td>福川駅〜戸田駅</td>\n",
      "<td>女性/死亡</td>\n",
      "<td>\n",
      "<a class=\"btn btn-sm btn-danger\" href=\"https://jinshinjiko.com/accidents/14891\">詳細</a>\n",
      "</td>\n",
      "</tr>\n"
     ]
    }
   ],
   "source": [
    "from bs4 import BeautifulSoup\n",
    "\n",
    "with open(\"../data/鉄道人身事故データベース.html\", \"r\") as f:\n",
    "    html = f.read()\n",
    "    soup = BeautifulSoup(html, 'html.parser')\n",
    "    a = soup.find_all(\"tr\")\n",
    "    print(a[1])"
   ]
  }
 ],
 "metadata": {
  "kernelspec": {
   "display_name": "Python 3.8.10 64-bit ('3.8.10')",
   "language": "python",
   "name": "python3"
  },
  "language_info": {
   "codemirror_mode": {
    "name": "ipython",
    "version": 3
   },
   "file_extension": ".py",
   "mimetype": "text/x-python",
   "name": "python",
   "nbconvert_exporter": "python",
   "pygments_lexer": "ipython3",
   "version": "3.8.10"
  },
  "orig_nbformat": 4,
  "vscode": {
   "interpreter": {
    "hash": "1a3477c34db08afe9f47e0f0d996f95fb33b29cd0835c968a43c31a15b10e5bb"
   }
  }
 },
 "nbformat": 4,
 "nbformat_minor": 2
}
