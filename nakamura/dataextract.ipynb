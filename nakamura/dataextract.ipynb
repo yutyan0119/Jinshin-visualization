{
 "cells": [
  {
   "cell_type": "code",
   "execution_count": 10,
   "metadata": {},
   "outputs": [],
   "source": [
    "from bs4 import BeautifulSoup\n",
    "import csv\n",
    "import numpy as np\n",
    "import pandas as pd\n",
    "import requests\n",
    "import re\n",
    "import time\n",
    "from tqdm import tqdm\n",
    "import json\n",
    "import pprint"
   ]
  },
  {
   "cell_type": "code",
   "execution_count": null,
   "metadata": {},
   "outputs": [],
   "source": [
    "with open(\"../data/鉄道人身事故データベース.html\", \"r\") as f:\n",
    "    html = f.read()\n",
    "    soup = BeautifulSoup(html, 'html.parser')\n",
    "    a = soup.findAll(\"table\")[0].findAll(\"tr\")\n",
    "    with open(\"../data/jinshin.csv\", \"w\", newline=\"\", encoding=\"utf-8\") as file:\n",
    "        csv_write = csv.writer(file)\n",
    "        for tr in a:\n",
    "            data = []\n",
    "            for cell in tr.findAll([\"td\", \"th\"]):\n",
    "                if (not \"詳細\" in cell.get_text()) and cell.get_text() != \"\":\n",
    "                    data.append(cell.get_text())\n",
    "            if len(data) == 3:\n",
    "                data.append(\"\")\n",
    "            for url in tr.findAll(\"a\"):\n",
    "                data.append(url.get(\"href\"))\n",
    "            csv_write.writerow(data)"
   ]
  },
  {
   "cell_type": "code",
   "execution_count": null,
   "metadata": {},
   "outputs": [],
   "source": [
    "df = pd.read_csv(\"../data/jinshin.csv\", header=0, names=[\"date\", \"line\", \"place\", \"injury\", \"url\"])\n",
    "data = []\n",
    "sentences = []\n",
    "for url in tqdm(df[\"url\"]):\n",
    "    d = BeautifulSoup(requests.get(url).text,'html.parser')\n",
    "    a = d.findAll(\"a\",text=re.compile(\"魚拓\"))\n",
    "    if a :\n",
    "        data.append(a[0].get(\"href\"))\n",
    "    else :\n",
    "        data.append(\"\")\n",
    "    sentence = d.findAll(\"p\",class_=\"card-text\")\n",
    "    if sentence:\n",
    "        sentences.append(sentence[0].get_text().replace(\" \",\"\").replace(\"\\n\",\"\").replace(\"　\",\"\"))\n",
    "    else :\n",
    "        sentences.append(\"\")\n",
    "    time.sleep(0.01)\n",
    "# 保存\n",
    "save_data = np.array(data)\n",
    "save_sentences = np.array(sentences)\n",
    "np.save(\"archive_url3\",save_data)\n",
    "np.save(\"news_sentences\", save_sentences)\n",
    "# 付け加えて保存\n",
    "df[\"archive\"] = data\n",
    "df[\"sentence\"] = sentences\n",
    "df.to_csv(\"../data/jinshin_archive.csv\")"
   ]
  },
  {
   "cell_type": "code",
   "execution_count": null,
   "metadata": {},
   "outputs": [],
   "source": [
    "url = df[\"url\"][0]\n",
    "d = BeautifulSoup(requests.get(url).text, 'html.parser')\n",
    "\n",
    "gyotaku = d.findAll(\"a\", text =re.compile(\"魚拓\"))[0].get(\"href\")\n",
    "print(gyotaku)\n",
    "print(d.findAll('p',class_=\"card-text\")[0].get_text())"
   ]
  },
  {
   "cell_type": "code",
   "execution_count": 9,
   "metadata": {},
   "outputs": [
    {
     "name": "stderr",
     "output_type": "stream",
     "text": [
      "100%|██████████| 14897/14897 [1:01:16<00:00,  4.05it/s]\n"
     ]
    }
   ],
   "source": [
    "df = pd.read_csv(\"../data/jinshin_archive.csv\", header=0, names=[\"date\", \"line\", \"place\", \"injury\", \"url\", \"archive\", \"sentence\"])\n",
    "data = []\n",
    "sentences = []\n",
    "for url in tqdm(df[\"url\"]):\n",
    "    d = BeautifulSoup(requests.get(url).text,'html.parser')\n",
    "    sentence = d.findAll(\"p\",class_=\"card-text\")\n",
    "    if sentence:\n",
    "        sentences.append(sentence[0].get_text().replace(\" \",\"\").replace(\"\\n\",\"\").replace(\"　\",\"\"))\n",
    "    else :\n",
    "        sentences.append(\"\")\n",
    "    time.sleep(0.01)\n",
    "# 保存\n",
    "save_sentences = np.array(sentences)\n",
    "np.save(\"news_sentences\", save_sentences)\n",
    "# 付け加えて保存\n",
    "df[\"sentence\"] = sentences\n",
    "df.to_csv(\"../data/jinshin_archive_sentence.csv\")"
   ]
  },
  {
   "cell_type": "code",
   "execution_count": 29,
   "metadata": {},
   "outputs": [
    {
     "name": "stdout",
     "output_type": "stream",
     "text": [
      "東京\n"
     ]
    }
   ],
   "source": [
    "with open(\"../data/JR東/東日本旅客鉄道東海道線.geojson\") as f:\n",
    "    df = json.load(f)\n",
    "print(df[\"features\"][0][\"properties\"][\"name\"])"
   ]
  },
  {
   "cell_type": "code",
   "execution_count": 46,
   "metadata": {},
   "outputs": [
    {
     "data": {
      "text/html": [
       "<div>\n",
       "<style scoped>\n",
       "    .dataframe tbody tr th:only-of-type {\n",
       "        vertical-align: middle;\n",
       "    }\n",
       "\n",
       "    .dataframe tbody tr th {\n",
       "        vertical-align: top;\n",
       "    }\n",
       "\n",
       "    .dataframe thead th {\n",
       "        text-align: right;\n",
       "    }\n",
       "</style>\n",
       "<table border=\"1\" class=\"dataframe\">\n",
       "  <thead>\n",
       "    <tr style=\"text-align: right;\">\n",
       "      <th></th>\n",
       "      <th>date</th>\n",
       "      <th>line</th>\n",
       "      <th>place</th>\n",
       "      <th>injury</th>\n",
       "      <th>url</th>\n",
       "      <th>archive</th>\n",
       "      <th>sentence</th>\n",
       "    </tr>\n",
       "  </thead>\n",
       "  <tbody>\n",
       "    <tr>\n",
       "      <th>3350</th>\n",
       "      <td>2019/06/18 09:58</td>\n",
       "      <td>JR京都線</td>\n",
       "      <td>新大阪駅</td>\n",
       "      <td>男性/死亡</td>\n",
       "      <td>https://jinshinjiko.com/accidents/11544</td>\n",
       "      <td>http://archive.is/fNXE8</td>\n",
       "      <td>6月18日朝、大阪市淀川区西中島のJR新大阪駅において、男性と電車が接触し、同男性は搬送先の...</td>\n",
       "    </tr>\n",
       "    <tr>\n",
       "      <th>7461</th>\n",
       "      <td>2015/10/29 22:59</td>\n",
       "      <td>東海道線_(JR西日本)</td>\n",
       "      <td>新大阪駅</td>\n",
       "      <td>男性/軽傷</td>\n",
       "      <td>https://jinshinjiko.com/accidents/1076</td>\n",
       "      <td>NaN</td>\n",
       "      <td>10月29日夜、大阪市淀川区西中島のＪＲ京都線新大阪駅において、男性が電車と接触し、怪我を負...</td>\n",
       "    </tr>\n",
       "    <tr>\n",
       "      <th>9305</th>\n",
       "      <td>2014/03/25 21:20</td>\n",
       "      <td>大阪市営地下鉄御堂筋線</td>\n",
       "      <td>新大阪駅</td>\n",
       "      <td>34歳/女性/重傷</td>\n",
       "      <td>https://jinshinjiko.com/accidents/2143</td>\n",
       "      <td>https://archive.is/jKuee</td>\n",
       "      <td>２５日午後９時２０分ごろ、大阪市淀川区西中島の市営地下鉄御堂筋線新大阪駅で、ホームから線路に...</td>\n",
       "    </tr>\n",
       "    <tr>\n",
       "      <th>10580</th>\n",
       "      <td>2013/03/31 06:05</td>\n",
       "      <td>大阪市営地下鉄御堂筋線</td>\n",
       "      <td>新大阪駅</td>\n",
       "      <td>NaN</td>\n",
       "      <td>https://jinshinjiko.com/accidents/3486</td>\n",
       "      <td>NaN</td>\n",
       "      <td>NaN</td>\n",
       "    </tr>\n",
       "    <tr>\n",
       "      <th>11365</th>\n",
       "      <td>2012/09/01 12:03</td>\n",
       "      <td>大阪市営地下鉄御堂筋線</td>\n",
       "      <td>新大阪駅</td>\n",
       "      <td>30代/女性/軽傷</td>\n",
       "      <td>https://jinshinjiko.com/accidents/4078</td>\n",
       "      <td>http://b.hatena.ne.jp/entry/mainichi.jp/select...</td>\n",
       "      <td>１日午後０時５分ごろ、大阪市淀川区西中島５の市営地下鉄御堂筋線新大阪駅で、天王寺発新大阪行き...</td>\n",
       "    </tr>\n",
       "    <tr>\n",
       "      <th>12465</th>\n",
       "      <td>2011/10/22 18:27</td>\n",
       "      <td>東海道線_(JR西日本)</td>\n",
       "      <td>新大阪駅</td>\n",
       "      <td>33歳/男性/死亡</td>\n",
       "      <td>https://jinshinjiko.com/accidents/5324</td>\n",
       "      <td>http://b.hatena.ne.jp/entry/sankei.jp.msn.com/...</td>\n",
       "      <td>２２日午後６時半ごろ、大阪市淀川区西中島のＪＲ新大阪駅で、京都発西明石行きの下り普通電車の運...</td>\n",
       "    </tr>\n",
       "    <tr>\n",
       "      <th>12870</th>\n",
       "      <td>2011/06/29 19:51</td>\n",
       "      <td>東海道線_(JR西日本)</td>\n",
       "      <td>新大阪駅</td>\n",
       "      <td>NaN</td>\n",
       "      <td>https://jinshinjiko.com/accidents/5792</td>\n",
       "      <td>NaN</td>\n",
       "      <td>NaN</td>\n",
       "    </tr>\n",
       "  </tbody>\n",
       "</table>\n",
       "</div>"
      ],
      "text/plain": [
       "                   date          line place     injury  \\\n",
       "3350   2019/06/18 09:58         JR京都線  新大阪駅      男性/死亡   \n",
       "7461   2015/10/29 22:59  東海道線_(JR西日本)  新大阪駅      男性/軽傷   \n",
       "9305   2014/03/25 21:20   大阪市営地下鉄御堂筋線  新大阪駅  34歳/女性/重傷   \n",
       "10580  2013/03/31 06:05   大阪市営地下鉄御堂筋線  新大阪駅        NaN   \n",
       "11365  2012/09/01 12:03   大阪市営地下鉄御堂筋線  新大阪駅  30代/女性/軽傷   \n",
       "12465  2011/10/22 18:27  東海道線_(JR西日本)  新大阪駅  33歳/男性/死亡   \n",
       "12870  2011/06/29 19:51  東海道線_(JR西日本)  新大阪駅        NaN   \n",
       "\n",
       "                                           url  \\\n",
       "3350   https://jinshinjiko.com/accidents/11544   \n",
       "7461    https://jinshinjiko.com/accidents/1076   \n",
       "9305    https://jinshinjiko.com/accidents/2143   \n",
       "10580   https://jinshinjiko.com/accidents/3486   \n",
       "11365   https://jinshinjiko.com/accidents/4078   \n",
       "12465   https://jinshinjiko.com/accidents/5324   \n",
       "12870   https://jinshinjiko.com/accidents/5792   \n",
       "\n",
       "                                                 archive  \\\n",
       "3350                             http://archive.is/fNXE8   \n",
       "7461                                                 NaN   \n",
       "9305                            https://archive.is/jKuee   \n",
       "10580                                                NaN   \n",
       "11365  http://b.hatena.ne.jp/entry/mainichi.jp/select...   \n",
       "12465  http://b.hatena.ne.jp/entry/sankei.jp.msn.com/...   \n",
       "12870                                                NaN   \n",
       "\n",
       "                                                sentence  \n",
       "3350   6月18日朝、大阪市淀川区西中島のJR新大阪駅において、男性と電車が接触し、同男性は搬送先の...  \n",
       "7461   10月29日夜、大阪市淀川区西中島のＪＲ京都線新大阪駅において、男性が電車と接触し、怪我を負...  \n",
       "9305   ２５日午後９時２０分ごろ、大阪市淀川区西中島の市営地下鉄御堂筋線新大阪駅で、ホームから線路に...  \n",
       "10580                                                NaN  \n",
       "11365  １日午後０時５分ごろ、大阪市淀川区西中島５の市営地下鉄御堂筋線新大阪駅で、天王寺発新大阪行き...  \n",
       "12465  ２２日午後６時半ごろ、大阪市淀川区西中島のＪＲ新大阪駅で、京都発西明石行きの下り普通電車の運...  \n",
       "12870                                                NaN  "
      ]
     },
     "execution_count": 46,
     "metadata": {},
     "output_type": "execute_result"
    }
   ],
   "source": [
    "df = pd.read_csv(\"../data/jinshin_archive_sentence.csv\",index_col=0)\n",
    "hoge = df.place==\"新大阪駅\"\n",
    "df[hoge]"
   ]
  }
 ],
 "metadata": {
  "kernelspec": {
   "display_name": "Python 3.8.10 64-bit ('3.8.10')",
   "language": "python",
   "name": "python3"
  },
  "language_info": {
   "codemirror_mode": {
    "name": "ipython",
    "version": 3
   },
   "file_extension": ".py",
   "mimetype": "text/x-python",
   "name": "python",
   "nbconvert_exporter": "python",
   "pygments_lexer": "ipython3",
   "version": "3.8.10"
  },
  "orig_nbformat": 4,
  "vscode": {
   "interpreter": {
    "hash": "1a3477c34db08afe9f47e0f0d996f95fb33b29cd0835c968a43c31a15b10e5bb"
   }
  }
 },
 "nbformat": 4,
 "nbformat_minor": 2
}
